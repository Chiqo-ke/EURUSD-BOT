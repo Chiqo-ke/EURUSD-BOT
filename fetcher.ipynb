{
 "cells": [
  {
   "cell_type": "code",
   "execution_count": null,
   "id": "d302b420",
   "metadata": {
    "cellUniqueIdByVincent": "6f4ec"
   },
   "outputs": [
    {
     "name": "stderr",
     "output_type": "stream",
     "text": [
      "you are using nologin method, data you access may be limited\n"
     ]
    }
   ],
   "source": [
    "from tvDatafeed import TvDatafeed, Interval\n",
    "import pandas as pd\n",
    "import os\n",
    "\n",
    "\n",
    "\n",
    "tv = TvDatafeed()"
   ]
  },
  {
   "cell_type": "code",
   "execution_count": null,
   "id": "bff5f5b5",
   "metadata": {
    "cellUniqueIdByVincent": "4a8b2"
   },
   "outputs": [],
   "source": [
    "m30_data = tv.get_hist(symbol='EURUSD',exchange='OANDA',interval=Interval.in_30_minute,n_bars=562)\n",
    "m3_data = tv.get_hist(symbol='EURUSD',exchange='OANDA',interval=Interval.in_3_minute,n_bars=6000)"
   ]
  },
  {
   "cell_type": "code",
   "execution_count": null,
   "id": "c1fb7aaa",
   "metadata": {
    "cellUniqueIdByVincent": "b7258"
   },
   "outputs": [],
   "source": [
    "m30_data.index = pd.to_datetime(m30_data.index)\n",
    "m3_data.index = pd.to_datetime(m3_data.index)"
   ]
  },
  {
   "cell_type": "code",
   "execution_count": null,
   "id": "a6c255fb",
   "metadata": {
    "cellUniqueIdByVincent": "fc9ae"
   },
   "outputs": [],
   "source": [
    "if not os.path.exists('Data'):\n",
    "    os.makedirs('Data')\n",
    "\n",
    "m30_data.to_csv('Data/M30.csv', index=False)\n",
    "m3_data.to_csv('Data/M3.csv', index=False)\n"
   ]
  }
 ],
 "metadata": {
  "kernelspec": {
   "display_name": ".venv",
   "language": "python",
   "name": "python3"
  },
  "language_info": {
   "codemirror_mode": {
    "name": "ipython",
    "version": 3
   },
   "file_extension": ".py",
   "mimetype": "text/x-python",
   "name": "python",
   "nbconvert_exporter": "python",
   "pygments_lexer": "ipython3",
   "version": "3.10.0"
  },
  "vincent": {
   "sessionId": "9a7ec890d7027641335e124e_2025-06-30T11-57-58-106Z"
  }
 },
 "nbformat": 4,
 "nbformat_minor": 5
}
